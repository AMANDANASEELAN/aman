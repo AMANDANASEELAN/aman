{
 "cells": [
  {
   "cell_type": "code",
   "execution_count": 1,
   "id": "5657c5b5",
   "metadata": {},
   "outputs": [
    {
     "name": "stdout",
     "output_type": "stream",
     "text": [
      "Hello Python\n"
     ]
    }
   ],
   "source": [
    "#1.Write a Python program to print \"Hello Python\"?\n",
    "\n",
    "print(\"Hello Python\")"
   ]
  },
  {
   "cell_type": "code",
   "execution_count": 26,
   "id": "caceb720",
   "metadata": {},
   "outputs": [
    {
     "name": "stdout",
     "output_type": "stream",
     "text": [
      "Enter first number :88\n",
      "Enter second number :66\n",
      "154\n",
      "1.3333333333333333\n"
     ]
    }
   ],
   "source": [
    "#2.Write a Python program to do arithmetical operations addition and division?\n",
    "\n",
    "num1= int(input(\"Enter first number :\"))\n",
    "num2=int(input(\"Enter second number :\"))\n",
    "add=num1+num2\n",
    "div=num1/num2\n",
    "print(add)\n",
    "print(div)"
   ]
  },
  {
   "cell_type": "code",
   "execution_count": 27,
   "id": "10e4815c",
   "metadata": {},
   "outputs": [
    {
     "name": "stdout",
     "output_type": "stream",
     "text": [
      "Enter first side : 44 \n",
      "Enter second side : 55\n",
      "Enter third side : 44\n",
      "944.5559472577577\n"
     ]
    }
   ],
   "source": [
    "#3.Write a Python program to find the area of a triangle?\n",
    "\n",
    "a = float(input('Enter first side : '))\n",
    "b = float(input('Enter second side : '))\n",
    "c = float(input('Enter third side : '))\n",
    "# calculate the semi-perimeter.\n",
    "s = (a + b + c) / 2.\n",
    "# calculate the area.\n",
    "area = (s*(s-a)*(s-b)*(s-c)) ** 0.5\n",
    "print(area)"
   ]
  },
  {
   "cell_type": "code",
   "execution_count": 30,
   "id": "bf4fdff6",
   "metadata": {},
   "outputs": [
    {
     "name": "stdout",
     "output_type": "stream",
     "text": [
      "Enter first  variable d:55\n",
      "Enter second variable e: 44\n",
      "44\n",
      "55\n"
     ]
    }
   ],
   "source": [
    "#4.Write a Python program to swap two variables?\n",
    "\n",
    "d = input('Enter first  variable d:')\n",
    "e = input('Enter second variable e: ')\n",
    "temp=d\n",
    "d=e\n",
    "e=temp\n",
    "print(d)\n",
    "print(e)"
   ]
  },
  {
   "cell_type": "code",
   "execution_count": 36,
   "id": "7707b3ad",
   "metadata": {},
   "outputs": [
    {
     "name": "stdout",
     "output_type": "stream",
     "text": [
      "1\n"
     ]
    }
   ],
   "source": [
    "#5.Write a Python program to generate a random number?\n",
    "\n",
    "import random\n",
    "\n",
    "n= random.randint(0,22)\n",
    "\n",
    "print(n)\n",
    "\n"
   ]
  }
 ],
 "metadata": {
  "kernelspec": {
   "display_name": "Python 3 (ipykernel)",
   "language": "python",
   "name": "python3"
  },
  "language_info": {
   "codemirror_mode": {
    "name": "ipython",
    "version": 3
   },
   "file_extension": ".py",
   "mimetype": "text/x-python",
   "name": "python",
   "nbconvert_exporter": "python",
   "pygments_lexer": "ipython3",
   "version": "3.9.13"
  }
 },
 "nbformat": 4,
 "nbformat_minor": 5
}
