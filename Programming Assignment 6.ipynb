{
 "cells": [
  {
   "cell_type": "code",
   "execution_count": 4,
   "id": "cf4ffda7",
   "metadata": {},
   "outputs": [
    {
     "name": "stdout",
     "output_type": "stream",
     "text": [
      "Enter the number of terms for display Fibonacci Sequence10\n",
      "Fibonacci Sequence;\n",
      "0\n",
      "1\n",
      "1\n",
      "2\n",
      "3\n",
      "5\n",
      "8\n",
      "13\n",
      "21\n",
      "34\n"
     ]
    }
   ],
   "source": [
    "#1.Write a Python Program to Display Fibonacci Sequence Using Recursion?\n",
    "\n",
    "def rec_fib(n):\n",
    "    if n<=1:\n",
    "        return n\n",
    "    else:\n",
    "        return(rec_fib(n-1) + rec_fib(n-2))\n",
    "nterm=int(input(\"Enter the number of terms for display Fibonacci Sequence\"))\n",
    "if nterm<=0:\n",
    "    print(\"Please enter the positive number\")\n",
    "else:\n",
    "    print(\"Fibonacci Sequence;\")\n",
    "    for i in range(nterm):\n",
    "        print(rec_fib(i))\n"
   ]
  },
  {
   "cell_type": "code",
   "execution_count": 13,
   "id": "a8048d58",
   "metadata": {},
   "outputs": [
    {
     "name": "stdout",
     "output_type": "stream",
     "text": [
      "Enter the number to find Factorial of number10\n",
      "The factorial of 10 is 3628800\n"
     ]
    }
   ],
   "source": [
    "#2. Write a Python Program to Find Factorial of Number Using Recursion?\n",
    "\n",
    "def rec_fact(n):\n",
    "    if n<=1:\n",
    "        return n\n",
    "    else:\n",
    "        return n*rec_fact(n-1)\n",
    "    \n",
    "num=int(input(\"Enter the number to find Factorial of number\"))\n",
    "if num<0:\n",
    "    print(\"Please enter the positive number\")\n",
    "elif num==0:\n",
    "    print(\"The factorial of 0 is 1\")\n",
    "\n",
    "else:\n",
    "    print(\"The factorial of\",num, \"is\", rec_fact(num))\n",
    " "
   ]
  },
  {
   "cell_type": "code",
   "execution_count": 6,
   "id": "141d94fb",
   "metadata": {},
   "outputs": [
    {
     "name": "stdout",
     "output_type": "stream",
     "text": [
      "Enter the Height in centimeters : 168\n",
      "Enter the weight in Kg : 70\n",
      "Your BMI is: 24.801587301587304 and you are: You are healthy.\n"
     ]
    }
   ],
   "source": [
    "#3. Write a Python Program to calculate your Body Mass Index?\n",
    "\n",
    "hei=float(input(\"Enter the Height in centimeters : \"))\n",
    "wei=float(input(\"Enter the weight in Kg : \"))\n",
    "bmi = wei/(hei/100)**2\n",
    "print(\"Your BMI is: {0} and you are: \".format(bmi), end='')\n",
    "\n",
    "if bmi <= 18.4:\n",
    "    print(\"You are underweight.\")\n",
    "elif bmi <= 24.9:\n",
    "    print(\"You are healthy.\")\n",
    "elif bmi <= 29.9:\n",
    "    print(\"You are over weight.\")\n",
    "elif bmi <= 34.9:\n",
    "    print(\"You are severely over weight.\")\n",
    "elif bmi <= 39.9:\n",
    "    print(\"You are obese.\")\n",
    "else:\n",
    "    print(\"You are severely obese.\")"
   ]
  },
  {
   "cell_type": "code",
   "execution_count": 7,
   "id": "00213869",
   "metadata": {},
   "outputs": [
    {
     "name": "stdout",
     "output_type": "stream",
     "text": [
      "math.log(100.12) :  4.6063694665635735\n",
      "math.log(100.72) :  4.612344389736092\n",
      "math.log(math.pi) :  1.1447298858494002\n"
     ]
    }
   ],
   "source": [
    "#4. Write a Python Program to calculate the natural logarithm of any number?\n",
    "\n",
    "import math   \n",
    "\n",
    "print (\"math.log(100.12) : \", math.log(100.12))\n",
    "print (\"math.log(100.72) : \", math.log(100.72))\n",
    "print (\"math.log(math.pi) : \", math.log(math.pi))"
   ]
  },
  {
   "cell_type": "code",
   "execution_count": 10,
   "id": "017525ba",
   "metadata": {},
   "outputs": [
    {
     "name": "stdout",
     "output_type": "stream",
     "text": [
      "Enter the Positive Number :3\n",
      "36\n"
     ]
    }
   ],
   "source": [
    "#5. Write a Python Program for cube sum of first n natural numbers?\n",
    "\n",
    "n=int(input(\"Enter the Positive Number :\"))\n",
    "s=0\n",
    "for i in range(1,n+1):\n",
    "    s=s+pow(i,3)\n",
    "print(s)   \n",
    " "
   ]
  }
 ],
 "metadata": {
  "kernelspec": {
   "display_name": "Python 3 (ipykernel)",
   "language": "python",
   "name": "python3"
  },
  "language_info": {
   "codemirror_mode": {
    "name": "ipython",
    "version": 3
   },
   "file_extension": ".py",
   "mimetype": "text/x-python",
   "name": "python",
   "nbconvert_exporter": "python",
   "pygments_lexer": "ipython3",
   "version": "3.9.13"
  }
 },
 "nbformat": 4,
 "nbformat_minor": 5
}
