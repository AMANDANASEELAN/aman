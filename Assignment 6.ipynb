{
 "cells": [
  {
   "cell_type": "raw",
   "id": "731f950c",
   "metadata": {},
   "source": [
    "1. What are escape characters, and how do you use them?\n",
    "\n",
    "        To insert characters that are illegal in a string, use an escape character. An escape character is a backslash \\ followed by the character you want to insert."
   ]
  },
  {
   "cell_type": "code",
   "execution_count": 2,
   "id": "8f530573",
   "metadata": {},
   "outputs": [
    {
     "name": "stdout",
     "output_type": "stream",
     "text": [
      "This is my \"6\" assignment .\n"
     ]
    }
   ],
   "source": [
    "data = \"This is my \\\"6\\\" assignment .\"\n",
    "print(data) "
   ]
  },
  {
   "cell_type": "raw",
   "id": "c1518209",
   "metadata": {},
   "source": [
    "2. What do the escape characters n and t stand for?\n",
    "       \n",
    "       The escape characters n and t stand for newline and tab respectively. \\n is a newline; \\t is a tab"
   ]
  },
  {
   "cell_type": "raw",
   "id": "863dc99a",
   "metadata": {},
   "source": [
    "3. What is the way to include backslash characters in a string?\n",
    "\n",
    "        The \\ escape character will represent a backslash character."
   ]
  },
  {
   "cell_type": "raw",
   "id": "a6a909f3",
   "metadata": {},
   "source": [
    "4. The string \"Howl's Moving Castle\" is a correct value. Why isn't the single quote character in the word Howl's not escaped a    problem?\n",
    "\n",
    "        The single quote in Howl's is fine because we have used double quotes to mark the beginning and end of the string."
   ]
  },
  {
   "cell_type": "raw",
   "id": "46c58288",
   "metadata": {},
   "source": [
    "5. How do you write a string of newlines if you don't want to use the n character?\n",
    "\n",
    "        Multiline strings allow us to use newlines in strings without the \\n escape character."
   ]
  },
  {
   "cell_type": "raw",
   "id": "c66f1da5",
   "metadata": {},
   "source": [
    "6. What are the values of the given expressions?\n",
    "'Hello, world!'[1]\n",
    "'Hello, world!'[0:5]\n",
    "'Hello, world!'[:5]\n",
    "'Hello, world!'[3:]\n",
    "\n"
   ]
  },
  {
   "cell_type": "code",
   "execution_count": 5,
   "id": "e614d70d",
   "metadata": {},
   "outputs": [
    {
     "data": {
      "text/plain": [
       "'e'"
      ]
     },
     "execution_count": 5,
     "metadata": {},
     "output_type": "execute_result"
    }
   ],
   "source": [
    "'Hello, world!'[1]"
   ]
  },
  {
   "cell_type": "code",
   "execution_count": 6,
   "id": "e9df4510",
   "metadata": {},
   "outputs": [
    {
     "data": {
      "text/plain": [
       "'Hello'"
      ]
     },
     "execution_count": 6,
     "metadata": {},
     "output_type": "execute_result"
    }
   ],
   "source": [
    "'Hello, world!'[0:5]"
   ]
  },
  {
   "cell_type": "code",
   "execution_count": 7,
   "id": "5c4d3365",
   "metadata": {},
   "outputs": [
    {
     "data": {
      "text/plain": [
       "'Hello'"
      ]
     },
     "execution_count": 7,
     "metadata": {},
     "output_type": "execute_result"
    }
   ],
   "source": [
    "'Hello, world!'[:5]\n"
   ]
  },
  {
   "cell_type": "code",
   "execution_count": 8,
   "id": "2b913fc4",
   "metadata": {},
   "outputs": [
    {
     "data": {
      "text/plain": [
       "'lo, world!'"
      ]
     },
     "execution_count": 8,
     "metadata": {},
     "output_type": "execute_result"
    }
   ],
   "source": [
    "'Hello, world!'[3:]"
   ]
  },
  {
   "cell_type": "raw",
   "id": "ae001ee3",
   "metadata": {},
   "source": [
    "7. What are the values of the following expressions?\n",
    "'Hello'.upper()\n",
    "'Hello'.upper().isupper()\n",
    "'Hello'.upper().lower()\n"
   ]
  },
  {
   "cell_type": "code",
   "execution_count": 9,
   "id": "b6ffc27b",
   "metadata": {},
   "outputs": [
    {
     "data": {
      "text/plain": [
       "'HELLO'"
      ]
     },
     "execution_count": 9,
     "metadata": {},
     "output_type": "execute_result"
    }
   ],
   "source": [
    "'Hello'.upper()\n"
   ]
  },
  {
   "cell_type": "code",
   "execution_count": 10,
   "id": "a63aef52",
   "metadata": {},
   "outputs": [
    {
     "data": {
      "text/plain": [
       "True"
      ]
     },
     "execution_count": 10,
     "metadata": {},
     "output_type": "execute_result"
    }
   ],
   "source": [
    "'Hello'.upper().isupper()\n"
   ]
  },
  {
   "cell_type": "code",
   "execution_count": 11,
   "id": "9bb9ffd5",
   "metadata": {},
   "outputs": [
    {
     "data": {
      "text/plain": [
       "'hello'"
      ]
     },
     "execution_count": 11,
     "metadata": {},
     "output_type": "execute_result"
    }
   ],
   "source": [
    "'Hello'.upper().lower()\n"
   ]
  },
  {
   "cell_type": "raw",
   "id": "ae0ed609",
   "metadata": {},
   "source": [
    "8. What are the values of the following expressions?\n",
    "'Remember, remember, the fifth of July.'.split()\n",
    "'-'.join('There can only one.'.split())\n"
   ]
  },
  {
   "cell_type": "code",
   "execution_count": 12,
   "id": "16133a86",
   "metadata": {},
   "outputs": [
    {
     "data": {
      "text/plain": [
       "['Remember,', 'remember,', 'the', 'fifth', 'of', 'July.']"
      ]
     },
     "execution_count": 12,
     "metadata": {},
     "output_type": "execute_result"
    }
   ],
   "source": [
    "'Remember, remember, the fifth of July.'.split()\n"
   ]
  },
  {
   "cell_type": "code",
   "execution_count": 13,
   "id": "320c73a9",
   "metadata": {},
   "outputs": [
    {
     "data": {
      "text/plain": [
       "'There-can-only-one.'"
      ]
     },
     "execution_count": 13,
     "metadata": {},
     "output_type": "execute_result"
    }
   ],
   "source": [
    "'-'.join('There can only one.'.split())\n"
   ]
  },
  {
   "cell_type": "raw",
   "id": "d06af15c",
   "metadata": {},
   "source": [
    "9. What are the methods for right-justifying, left-justifying, and centering a string?\n",
    "\n",
    "        The rjust(), ljust(), and center() string methods, respectively are the methods for right-justifying, left-justifying, and centering a string"
   ]
  },
  {
   "cell_type": "raw",
   "id": "5a106cf3",
   "metadata": {},
   "source": [
    "10. What is the best way to rem\n",
    "\n",
    "       The lstrip() and rstrip() methods remove whitespace from the left and right ends of a string, respectively. "
   ]
  }
 ],
 "metadata": {
  "kernelspec": {
   "display_name": "Python 3 (ipykernel)",
   "language": "python",
   "name": "python3"
  },
  "language_info": {
   "codemirror_mode": {
    "name": "ipython",
    "version": 3
   },
   "file_extension": ".py",
   "mimetype": "text/x-python",
   "name": "python",
   "nbconvert_exporter": "python",
   "pygments_lexer": "ipython3",
   "version": "3.9.13"
  }
 },
 "nbformat": 4,
 "nbformat_minor": 5
}
