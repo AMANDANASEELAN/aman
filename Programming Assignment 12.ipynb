{
 "cells": [
  {
   "cell_type": "code",
   "execution_count": 1,
   "id": "89dee2c1",
   "metadata": {},
   "outputs": [
    {
     "name": "stdout",
     "output_type": "stream",
     "text": [
      "unique values are: {64, 1, 66, 2, 3, 5, 4, 7, 8, 43, 45, 47, 17, 81, 21}\n"
     ]
    }
   ],
   "source": [
    "#1.Write a Python program to Extract Unique values dictionary values?\n",
    "\n",
    "dict1 = {'a' : [5, 64, 47, 66],\n",
    "             'b' : [1, 21, 43, 45],\n",
    "             'c' : [2, 17, 7, 81],\n",
    "             'd' : [3, 3, 4,8]}\n",
    "\n",
    "un_val = set([ele for val in dict1.values() for ele in val])\n",
    "print(\"unique values are: {}\".format(un_val))\n"
   ]
  },
  {
   "cell_type": "code",
   "execution_count": 3,
   "id": "50eb25ec",
   "metadata": {},
   "outputs": [
    {
     "name": "stdout",
     "output_type": "stream",
     "text": [
      "Sun of all items: 764\n"
     ]
    }
   ],
   "source": [
    "#2.Write a Python program to find the sum of all items in a dictionary?\n",
    "\n",
    "dict2 = {'a' : 65,\n",
    "             'b' :  21,\n",
    "             'c' : 52,\n",
    "             'd' : 56}\n",
    "\n",
    "sum = 0\n",
    "for i in dict2.values():\n",
    "    sum +=sum + i\n",
    "print(\"Sun of all items: {}\".format(sum))"
   ]
  },
  {
   "cell_type": "code",
   "execution_count": 4,
   "id": "fc54bd67",
   "metadata": {},
   "outputs": [
    {
     "name": "stdout",
     "output_type": "stream",
     "text": [
      "dict a :  {'x': 2, 'y': 3}\n",
      "Dict b :  {'y': 5, 'z': 6}\n",
      "updated dictionary : {'x': 2, 'y': 5, 'z': 6}\n"
     ]
    }
   ],
   "source": [
    "#3.Write a Python program to Merging two Dictionaries?\n",
    "\n",
    "one = { 'x': 2, 'y': 3}\n",
    "two = { 'y': 5, 'z': 6}\n",
    "both = one.copy()\n",
    "both.update(two)\n",
    "print(\"dict a : \", one)\n",
    "print(\"Dict b : \", two)\n",
    "print('updated dictionary : {}'.format(both))"
   ]
  },
  {
   "cell_type": "code",
   "execution_count": 5,
   "id": "18f7de35",
   "metadata": {},
   "outputs": [
    {
     "name": "stdout",
     "output_type": "stream",
     "text": [
      "The original dictionary is : {'month': [1, 2, 3], 'name': ['Jan', 'Feb', 'March']}\n",
      "Flattened dictionary : {1: 'Jan', 2: 'Feb', 3: 'March'}\n"
     ]
    }
   ],
   "source": [
    "#4.Write a Python program to convert key-values list to flat dictionary?\n",
    "\n",
    "test_dict = {'month' : [1, 2, 3],\n",
    "             'name' : ['Jan', 'Feb', 'March']}\n",
    "  \n",
    "print(\"The original dictionary is : \" + str(test_dict))\n",
    "  \n",
    "res = dict(zip(test_dict['month'], test_dict['name']))\n",
    "  \n",
    "print(\"Flattened dictionary : \" + str(res))"
   ]
  },
  {
   "cell_type": "code",
   "execution_count": 6,
   "id": "3ecbe399",
   "metadata": {},
   "outputs": [
    {
     "name": "stdout",
     "output_type": "stream",
     "text": [
      "Ordered Dictionary  : OrderedDict([('Jan', '1'), ('Feb', '2'), ('Mar', '3')])\n"
     ]
    }
   ],
   "source": [
    "#5.Write a Python program to insertion at the beginning in OrderedDict?\n",
    "\n",
    "\n",
    "from collections import OrderedDict\n",
    "  \n",
    "iniordered_dict = OrderedDict([('Feb', '2'), ('Mar', '3')])\n",
    "iniordered_dict.update({'Jan':'1'})\n",
    "iniordered_dict.move_to_end('Jan', last = False)\n",
    "  \n",
    "print (\"Ordered Dictionary  : \"+str(iniordered_dict))"
   ]
  },
  {
   "cell_type": "code",
   "execution_count": 7,
   "id": "a4a09589",
   "metadata": {},
   "outputs": [
    {
     "name": "stdout",
     "output_type": "stream",
     "text": [
      "enter string : aman\n",
      "Enter Pattern : an\n",
      "OrderedDict([('a', None), ('m', None), ('n', None)])\n",
      "Pattern matched\n"
     ]
    }
   ],
   "source": [
    "#6.Write a Python program to check order of character in string using OrderedDict()?\n",
    "\n",
    "from collections import OrderedDict \n",
    "  \n",
    "def checkOrderofString(str, pattern): \n",
    "      \n",
    "    # create empty OrderedDict \n",
    "    dict = OrderedDict.fromkeys(str) \n",
    "    print(dict)   \n",
    "    ptrlen = 0\n",
    "    for key,value in dict.items(): \n",
    "        \n",
    "        if (key == pattern[ptrlen]): \n",
    "            ptrlen = ptrlen + 1\n",
    "          \n",
    "        # check if we have traverse complete pattern string \n",
    "        if (ptrlen == (len(pattern))):            \n",
    "            return 'true'\n",
    "  \n",
    "    # if we come out from for loop that means order was mismatched \n",
    "    return 'false'\n",
    "  \n",
    "\n",
    "string = input(\"enter string : \")\n",
    "pattern = input(\"Enter Pattern : \")\n",
    "if checkOrderofString(string,pattern):\n",
    "    print(\"Pattern matched\")\n",
    "else:\n",
    "    print(\"Pattern not matched\")"
   ]
  },
  {
   "cell_type": "code",
   "execution_count": 8,
   "id": "6e075594",
   "metadata": {},
   "outputs": [
    {
     "name": "stdout",
     "output_type": "stream",
     "text": [
      "[2, 5, 8, 9]\n"
     ]
    }
   ],
   "source": [
    "#7.Write a Python program to sort Python Dictionaries by Key or Value?\n",
    "\n",
    "dic2 = {4:5 ,7:8 ,4:3 ,6:9 ,9:5 ,4:2 }\n",
    "print(sorted(dic2.values()))"
   ]
  },
  {
   "cell_type": "code",
   "execution_count": null,
   "id": "e89269d7",
   "metadata": {},
   "outputs": [],
   "source": []
  }
 ],
 "metadata": {
  "kernelspec": {
   "display_name": "Python 3 (ipykernel)",
   "language": "python",
   "name": "python3"
  },
  "language_info": {
   "codemirror_mode": {
    "name": "ipython",
    "version": 3
   },
   "file_extension": ".py",
   "mimetype": "text/x-python",
   "name": "python",
   "nbconvert_exporter": "python",
   "pygments_lexer": "ipython3",
   "version": "3.9.13"
  }
 },
 "nbformat": 4,
 "nbformat_minor": 5
}
