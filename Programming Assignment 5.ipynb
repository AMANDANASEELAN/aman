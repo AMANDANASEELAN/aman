{
 "cells": [
  {
   "cell_type": "code",
   "execution_count": 16,
   "id": "7fe72967",
   "metadata": {},
   "outputs": [
    {
     "name": "stdout",
     "output_type": "stream",
     "text": [
      "Enter the first number : 24\n",
      "Enter the second number : 36\n",
      "The L.C.M. is 72\n"
     ]
    }
   ],
   "source": [
    "#1.Write a Python Program to Find LCM?\n",
    "\n",
    "num1 =int(input(\"Enter the first number : \"))\n",
    "num2 =int(input(\"Enter the second number : \"))\n",
    "def compute_lcm(x, y):\n",
    "    \n",
    "    if x > y:\n",
    "        greater = x\n",
    "    else:\n",
    "        greater = y\n",
    "\n",
    "    while(True):\n",
    "        if((greater % x == 0) and (greater % y == 0)):\n",
    "            lcm = greater\n",
    "            break\n",
    "        greater += 1\n",
    "\n",
    "    return lcm\n",
    "\n",
    "\n",
    "print(\"The L.C.M. is\", compute_lcm(num1, num2))"
   ]
  },
  {
   "cell_type": "code",
   "execution_count": 19,
   "id": "be957cd6",
   "metadata": {},
   "outputs": [
    {
     "name": "stdout",
     "output_type": "stream",
     "text": [
      "Enter the first number to find HCF : 55\n",
      "Enter the second number to find HCF :22\n",
      "The HCF is 11\n"
     ]
    }
   ],
   "source": [
    "#2.Write a Python Program to Find HCF?\n",
    "\n",
    "num3=int(input(\"Enter the first number to find HCF : \"))\n",
    "num4=int(input(\"Enter the second number to find HCF :\"))\n",
    "def compute_hcf(c,v):\n",
    "    if c>v:\n",
    "        smaller=v\n",
    "    else:\n",
    "        smaller=c\n",
    "    for i in range(1,smaller+1):\n",
    "        if((c%i==0)and(v%i==0)):\n",
    "            hcf=i\n",
    "    return hcf\n",
    "\n",
    "print(\"The HCF is\",compute_hcf(num3,num4))"
   ]
  },
  {
   "cell_type": "code",
   "execution_count": 23,
   "id": "fddc24ce",
   "metadata": {},
   "outputs": [
    {
     "name": "stdout",
     "output_type": "stream",
     "text": [
      "Enter the number : 55\n",
      "The decimal value of 55\n",
      "The binary value of  55 is 0b110111\n",
      "The octal value of  55 is 0o67\n",
      "The Hexadecimal value of 55 is 0x37\n"
     ]
    }
   ],
   "source": [
    "#3.Write a Python Program to Convert Decimal to Binary, Octal and Hexadecimal?\n",
    "\n",
    "d=int(input(\"Enter the number : \"))\n",
    "\n",
    "print(\"The decimal value of\", d,)\n",
    "print(\"The binary value of \",d,\"is\", bin(d))\n",
    "print(\"The octal value of \",d,\"is\", oct(d))\n",
    "print(\"The Hexadecimal value of\",d,\"is\",  hex(d))"
   ]
  },
  {
   "cell_type": "code",
   "execution_count": 26,
   "id": "c7a1c193",
   "metadata": {},
   "outputs": [
    {
     "name": "stdout",
     "output_type": "stream",
     "text": [
      "Enter the Character : h\n",
      "The ASCII value of 'h' is 104\n"
     ]
    }
   ],
   "source": [
    "#4.Write a Python Program To Find ASCII value of a character?\n",
    "\n",
    "c = input(\"Enter the Character : \")  \n",
    "print(\"The ASCII value of '\" + c + \"' is\", ord(c))"
   ]
  },
  {
   "cell_type": "code",
   "execution_count": 28,
   "id": "1d0d5901",
   "metadata": {},
   "outputs": [
    {
     "name": "stdout",
     "output_type": "stream",
     "text": [
      "Select operation.\n",
      "1.Add\n",
      "2.Subtract\n",
      "3.Multiply\n",
      "4.Divide\n",
      "Enter choice(1/2/3/4): 1\n",
      "Enter first number: 11\n",
      "Enter second number: 22\n",
      "11.0 + 22.0 = 33.0\n",
      "Let's do next calculation? (yes/no): yes\n",
      "Enter choice(1/2/3/4): 33\n",
      "Invalid Input\n",
      "Enter choice(1/2/3/4): 11\n",
      "Invalid Input\n",
      "Enter choice(1/2/3/4): 3\n",
      "Enter first number: 22\n",
      "Enter second number: 33\n",
      "22.0 * 33.0 = 726.0\n",
      "Let's do next calculation? (yes/no): yes\n",
      "Enter choice(1/2/3/4): 4\n",
      "Enter first number: 555\n",
      "Enter second number: 2\n",
      "555.0 / 2.0 = 277.5\n",
      "Let's do next calculation? (yes/no): yes\n",
      "Enter choice(1/2/3/4): 2\n",
      "Enter first number: 33\n",
      "Enter second number: 11\n",
      "33.0 - 11.0 = 22.0\n",
      "Let's do next calculation? (yes/no): no\n"
     ]
    }
   ],
   "source": [
    "#5.Write a Python Program to Make a Simple Calculator with 4 basic mathematical operations?\n",
    "\n",
    "# This function used for addition of two number\n",
    "def add (a,s):\n",
    "    return a+s\n",
    "\n",
    "#This function is used for subtraction of two number\n",
    "def sub (a,s):\n",
    "    return a-s\n",
    "\n",
    "#This function is used for multiplication of two number\n",
    "def mul (a,s):\n",
    "    return a*s\n",
    "\n",
    "#This function is used for division of two number\n",
    "def div(a,s):\n",
    "    return a/s\n",
    "\n",
    "print(\"Select operation.\")\n",
    "print(\"1.Add\")\n",
    "print(\"2.Subtract\")\n",
    "print(\"3.Multiply\")\n",
    "print(\"4.Divide\")\n",
    "\n",
    "while True:\n",
    "    # take input from the user\n",
    "    choice = input(\"Enter choice(1/2/3/4): \")\n",
    "\n",
    "    # check if choice is one of the four options\n",
    "    if choice in ('1', '2', '3', '4'):\n",
    "        num1 = float(input(\"Enter first number: \"))\n",
    "        num2 = float(input(\"Enter second number: \"))\n",
    "\n",
    "        if choice == '1':\n",
    "            print(num1, \"+\", num2, \"=\", add(num1, num2))\n",
    "\n",
    "        elif choice == '2':\n",
    "            print(num1, \"-\", num2, \"=\", sub(num1, num2))\n",
    "\n",
    "        elif choice == '3':\n",
    "            print(num1, \"*\", num2, \"=\", mul(num1, num2))\n",
    "\n",
    "        elif choice == '4':\n",
    "            print(num1, \"/\", num2, \"=\", div(num1, num2))\n",
    "        \n",
    "        # check if user wants another calculation\n",
    "        # break the while loop if answer is no\n",
    "        next_calculation = input(\"Let's do next calculation? (yes/no): \")\n",
    "        if next_calculation == \"no\":\n",
    "             break\n",
    "    \n",
    "    else:\n",
    "        print(\"Invalid Input\")\n"
   ]
  },
  {
   "cell_type": "code",
   "execution_count": null,
   "id": "03262255",
   "metadata": {},
   "outputs": [],
   "source": []
  }
 ],
 "metadata": {
  "kernelspec": {
   "display_name": "Python 3 (ipykernel)",
   "language": "python",
   "name": "python3"
  },
  "language_info": {
   "codemirror_mode": {
    "name": "ipython",
    "version": 3
   },
   "file_extension": ".py",
   "mimetype": "text/x-python",
   "name": "python",
   "nbconvert_exporter": "python",
   "pygments_lexer": "ipython3",
   "version": "3.9.13"
  }
 },
 "nbformat": 4,
 "nbformat_minor": 5
}
