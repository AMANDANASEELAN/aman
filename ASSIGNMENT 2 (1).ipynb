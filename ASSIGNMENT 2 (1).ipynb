{
 "cells": [
  {
   "cell_type": "raw",
   "id": "44c180a1",
   "metadata": {},
   "source": [
    "#1.What are the two values of the Boolean data type? How do you write them?\n",
    "      The two values of the Boolean data type is \" True and flase\".Boolean expressions use relational and logical operators (<,>,==,!=)."
   ]
  },
  {
   "cell_type": "raw",
   "id": "8e5f098e",
   "metadata": {},
   "source": [
    "#2. What are the three different types of Boolean operators?\n",
    "             The three Boolean operators are 'AND, OR, NOT'"
   ]
  },
  {
   "cell_type": "raw",
   "id": "e3c12bb8",
   "metadata": {},
   "source": [
    "#3. Make a list of each Boolean operator's truth tables (i.e. every possible combination of Boolean values for the operator and what it evaluate )?\n",
    "     \n",
    "    Operator\tMeaning\t                                                                                      Example\n",
    "    \n",
    "      <\t        Less than(True if left operand is less than the right)\t                                       x < y\n",
    "      ==\t    Equal to (True if both operands are equal)                                                 \t   x == y\n",
    "      !=\t    Not equal to (True if operands are not equal)            \t                                   x != y\n",
    "      >=\t    Greater than or equal to (True if left operand is greater than or equal to the right)\t       x >= y \n",
    "\n",
    "\n",
    "\n",
    "\n",
    "\n"
   ]
  },
  {
   "cell_type": "raw",
   "id": "71d82a6d",
   "metadata": {},
   "source": [
    "#4. What are the values of the following expressions?\n",
    "\n",
    "    (5 > 4) and (3 == 5) :-FLASE\n",
    "    not (5 > 4):- FLASE\n",
    "    (5 > 4) or (3 == 5):-TRUE\n",
    "    not ((5 > 4) or (3 == 5)):-FLASE\n",
    "    (True and True) and (True == False):- FLASE\n",
    "    (not False) or (not True):-TRUE\n"
   ]
  },
  {
   "cell_type": "raw",
   "id": "0d66f561",
   "metadata": {},
   "source": [
    "#5. What are the six comparison operators?\n",
    "        \n",
    "         Less than ( < ), less than or equal to ( <= ), greater than ( > ), greater than or equal to ( >= ), equal to ( == ), and not equal to ( != ).\n",
    "        "
   ]
  },
  {
   "cell_type": "raw",
   "id": "dd823a33",
   "metadata": {},
   "source": [
    "#6. How do you tell the difference between the equal to and assignment operators?Describe a condition and when you would use      one?\n",
    "\n",
    "        The difference between = (Assignment) and == (Equal to) operators. The “=” is an assignment operator is used to assign the value on the right to the variable on the left. The '==' operator checks whether the two given operands are equal or not. If so, it returns true."
   ]
  },
  {
   "cell_type": "raw",
   "id": "e76f80dd",
   "metadata": {},
   "source": [
    "#7. Identify the three blocks in this code:\n",
    "\n"
   ]
  },
  {
   "cell_type": "raw",
   "id": "f21ad0ad",
   "metadata": {},
   "source": [
    "#8. Write code that prints Hello if 1 is stored in spam, prints Howdy if 2 is stored in spam, and prints Greetings! if anything else is stored in spam?\n",
    "        \n",
    "spam =int(input())\n",
    "if spam == 1:\n",
    "    print (\"hello\")\n",
    "elif spam == 2:\n",
    "    print('Howdy')\n",
    "    \n",
    "else:\n",
    "        print('Greetings!')\n",
    "\n"
   ]
  },
  {
   "cell_type": "raw",
   "id": "8136706d",
   "metadata": {},
   "source": [
    "#9.If your programme is stuck in an endless loop, what keys you’ll press?\n",
    "    \n",
    "        CTRL + C"
   ]
  },
  {
   "cell_type": "raw",
   "id": "a3653bd9",
   "metadata": {},
   "source": [
    "#10. How can you tell the difference between break and continue?\n",
    "        \n",
    "        The main difference between both the statements is that when break keyword comes, it terminates the execution of the current loop and passes the control over the next loop or main body, whereas when continue keyword is encountered, it skips the current iteration and executes the very next iteration in the loop"
   ]
  },
  {
   "cell_type": "raw",
   "id": "43f410f2",
   "metadata": {},
   "source": [
    "#11. In a for loop, what is the difference between range(10), range(0, 10), and range(0, 10, 1)?\n",
    "\n",
    "      range(10):-The value used in range is 10, so the output is 0 1 2 3 4 5 6 7 8 9 .Since the start is not given the start is considered as 0 and the last value is given till 9. The last value is always 1 less than the given value i.e. stop-1.\n",
    "\n",
    "      range(0,10):-In the code, the start value is 0, and stop value is 10. Here the start index is 0, so the sequence of numbers will start from 0 till the stop value. The last value in the sequence will be 1 less than the stop value 10-1 = 9.\n",
    "      \n",
    "      range(0,10,1):-The start value is 0, so the sequence of numbers will start at 0. The stop value is 10, so the sequence of numbers will stop at (10-1) i.e 9. The step is 1, so each value in the sequence will be incremented by 1.The step value can be 1 or higher values.If the step value is not given, the value for step defaults to 1.\n",
    "      \n"
   ]
  },
  {
   "cell_type": "raw",
   "id": "67ea68f9",
   "metadata": {},
   "source": [
    "#12. Write a short program that prints the numbers 1 to 10 using a for loop. Then write an equivalent program that prints the numbers 1 to 10 using a while loop.\n",
    " \n",
    " Program by for loop\n",
    "    for i in range(1, 11):\n",
    "    print(i)\n",
    "    \n",
    " Program by while loop\n",
    "     i = 1\n",
    "while(i<=10):\n",
    "    print(i)\n",
    "    i += 1\n",
    "    \n"
   ]
  },
  {
   "cell_type": "raw",
   "id": "056d5db8",
   "metadata": {},
   "source": [
    "#13. If you had a function named bacon() inside a module named spam, how would you call it after importing spam?\n",
    "\n",
    "        This function can  be called with spam.bacon() "
   ]
  }
 ],
 "metadata": {
  "kernelspec": {
   "display_name": "Python 3 (ipykernel)",
   "language": "python",
   "name": "python3"
  },
  "language_info": {
   "codemirror_mode": {
    "name": "ipython",
    "version": 3
   },
   "file_extension": ".py",
   "mimetype": "text/x-python",
   "name": "python",
   "nbconvert_exporter": "python",
   "pygments_lexer": "ipython3",
   "version": "3.9.13"
  }
 },
 "nbformat": 4,
 "nbformat_minor": 5
}
