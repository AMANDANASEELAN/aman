{
 "cells": [
  {
   "cell_type": "code",
   "execution_count": 24,
   "id": "7b3da60b",
   "metadata": {},
   "outputs": [
    {
     "name": "stdout",
     "output_type": "stream",
     "text": [
      "Enter the number : 10\n",
      "The factorial of 10 is 3628800\n"
     ]
    }
   ],
   "source": [
    "#1.Write a Python Program to Find the Factorial of a Number?\n",
    "num=int(input(\"Enter the number : \"))\n",
    "f=1\n",
    "if num<0:\n",
    "    print(\"Factorial does not exist for negative numbers\")\n",
    "elif num==0:\n",
    "    print(\"The Factorial of 0 is 1\")\n",
    "else:\n",
    "    for i in range(1,num+1):\n",
    "        f=f*i\n",
    "    print(\"The factorial of\",num,\"is\",f)"
   ]
  },
  {
   "cell_type": "code",
   "execution_count": 29,
   "id": "aa58fe11",
   "metadata": {},
   "outputs": [
    {
     "name": "stdout",
     "output_type": "stream",
     "text": [
      "Enter the number for Multiplicaion table :5\n",
      "5 * 1 = 5\n",
      "5 * 2 = 10\n",
      "5 * 3 = 15\n",
      "5 * 4 = 20\n",
      "5 * 5 = 25\n",
      "5 * 6 = 30\n",
      "5 * 7 = 35\n",
      "5 * 8 = 40\n",
      "5 * 9 = 45\n",
      "5 * 10 = 50\n"
     ]
    }
   ],
   "source": [
    "#2.Write a Python Program to Display the multiplication Table?\n",
    "num1=int(input(\"Enter the number for Multiplicaion table :\"))\n",
    "for i in range(1,11):\n",
    "    print(num1,\"*\",i,\"=\",num1*i)"
   ]
  },
  {
   "cell_type": "code",
   "execution_count": 42,
   "id": "ef46e0c3",
   "metadata": {},
   "outputs": [
    {
     "name": "stdout",
     "output_type": "stream",
     "text": [
      "How many terms the user wants to print = 3\n",
      "0\n",
      "1\n",
      "1\n"
     ]
    }
   ],
   "source": [
    "#3.Write a Python Program to Print the Fibonacci sequence?\n",
    "num3=int(input(\"How many terms the user wants to print = \"))  \n",
    "n1=0\n",
    "n2=1\n",
    "count=0\n",
    "if num3<0:\n",
    "    print(\"Please enter positive number,the given number is not valid\")\n",
    "elif num3==1:\n",
    "    print(\"Fibonacci sequence upto\",num3)\n",
    "    print(n1)\n",
    "else:\n",
    "    while count<num3:\n",
    "        print(n1)\n",
    "        n3=n1+n2\n",
    "        n1=n2\n",
    "        n2=n3\n",
    "        count+=1"
   ]
  },
  {
   "cell_type": "code",
   "execution_count": 15,
   "id": "6debd282",
   "metadata": {},
   "outputs": [
    {
     "name": "stdout",
     "output_type": "stream",
     "text": [
      "Enter the number : 22222\n",
      "22222 is not an Armstrong Number\n"
     ]
    }
   ],
   "source": [
    "#4.Write a Python Program to Check Armstrong Number?\n",
    "\n",
    "num4=int(input(\"Enter the number : \"))\n",
    "sum=0\n",
    "tem=num4\n",
    "while tem>0:\n",
    "    d=tem%10\n",
    "    sum+=d**3\n",
    "    tem//=10\n",
    "if sum ==num4:\n",
    "    print(num4,\"is Armstrong Number \")\n",
    "else:\n",
    "    print(num4,\"is not an Armstrong Number\")"
   ]
  },
  {
   "cell_type": "code",
   "execution_count": 21,
   "id": "65a361eb",
   "metadata": {},
   "outputs": [
    {
     "name": "stdout",
     "output_type": "stream",
     "text": [
      "Enter the lower range for Armstrong number interval100\n",
      "Enter the high range for Armstrong number interval2000\n",
      "153\n",
      "370\n",
      "371\n",
      "407\n",
      "1634\n"
     ]
    }
   ],
   "source": [
    "#5.Write a Python Program to Find Armstrong Number in an Interval?\n",
    "\n",
    "lo_range=int(input(\"Enter the lower range for Armstrong number interval\"))\n",
    "hi_range=int(input(\"Enter the high range for Armstrong number interval\"))\n",
    "for  i in range(lo_range,hi_range+1):\n",
    "    order=len(str(i))\n",
    "    sum1=0\n",
    "    temp=i\n",
    "    while temp>0:\n",
    "        digit = temp % 10\n",
    "        sum1 += digit ** order\n",
    "        temp //= 10\n",
    "        \n",
    "    if i ==sum1:\n",
    "        print(i)\n",
    "\n",
    "    \n",
    "    \n",
    "    "
   ]
  },
  {
   "cell_type": "code",
   "execution_count": 27,
   "id": "64e5d260",
   "metadata": {},
   "outputs": [
    {
     "name": "stdout",
     "output_type": "stream",
     "text": [
      "Enter thr number : 33\n",
      "The sum is 561\n"
     ]
    }
   ],
   "source": [
    "#6.Write a Python Program to Find the Sum of Natural Numbers?\n",
    "\n",
    "num7 =int(input(\"Enter thr number : \"))\n",
    "if num7 < 0:\n",
    "    print(\"Enter a positive number\")\n",
    "else:\n",
    "    sum = 0\n",
    "    while(num7 > 0):\n",
    "        \n",
    "        sum += num7\n",
    "        num7 -= 1\n",
    "    print(\"The sum is\", sum)"
   ]
  }
 ],
 "metadata": {
  "kernelspec": {
   "display_name": "Python 3 (ipykernel)",
   "language": "python",
   "name": "python3"
  },
  "language_info": {
   "codemirror_mode": {
    "name": "ipython",
    "version": 3
   },
   "file_extension": ".py",
   "mimetype": "text/x-python",
   "name": "python",
   "nbconvert_exporter": "python",
   "pygments_lexer": "ipython3",
   "version": "3.9.13"
  }
 },
 "nbformat": 4,
 "nbformat_minor": 5
}
