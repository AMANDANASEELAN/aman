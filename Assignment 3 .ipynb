{
 "cells": [
  {
   "cell_type": "raw",
   "id": "0585ef1d",
   "metadata": {},
   "source": [
    "#1. Why are functions advantageous to have in your programs?\n",
    "        \n",
    "           Functions reduce the need for duplicate code. This makes programs shorter, easier to read, and easier to update."
   ]
  },
  {
   "cell_type": "raw",
   "id": "d7926c50",
   "metadata": {},
   "source": [
    "#2. When does the code in a function run: when it's specified or when it's called?\n",
    "        When a function is \"called\" the program \"leaves\" the current section of code and begins to execute the first line inside the function."
   ]
  },
  {
   "cell_type": "raw",
   "id": "d095ca87",
   "metadata": {},
   "source": [
    "#3. What statement creates a function?\n",
    "\n",
    "        To create a function, we must first declare it and give it a name, the same way we'd create any variable, and then we follow it by a function definition: var sayHello = function() { }; We could put any code inside that function - one statement, multiple statements - depends on what we want to do.\n",
    "        "
   ]
  },
  {
   "cell_type": "raw",
   "id": "a4da9587",
   "metadata": {},
   "source": [
    "#4. What is the difference between a function and a function call?        \n",
    "        \n",
    "        A function is a block of code that does a particular operation and returns a result. It usually accepts inputs as parameters and returns a result. The parameters are not mandatory. A function call is the code used to pass control to a function"
   ]
  },
  {
   "cell_type": "raw",
   "id": "8c2fa7db",
   "metadata": {},
   "source": [
    "#5. How many global scopes are there in a Python program? How many local scopes?\n",
    "\n",
    "        At any given time during execution, you'll have at most four active Python scopes—local, enclosing, global, and built-in—depending on where you are in the code. On the other hand, you'll always have at least two active scopes, which are the global and built-in scopes."
   ]
  },
  {
   "cell_type": "raw",
   "id": "a1e2dd3b",
   "metadata": {},
   "source": [
    "#6. What happens to variables in a local scope when the function call returns?\n",
    "\n",
    "    When the execution of the function terminates (returns), the local variables are destroyed\n",
    "        "
   ]
  },
  {
   "cell_type": "raw",
   "id": "8679c619",
   "metadata": {},
   "source": [
    "#7. What is the concept of a return value? Is it possible to have a return value in an expression?\n",
    "    \n",
    "        A return is a value that a function returns to the calling script or function when it completes its task. A return value can be any one of the four variable types: handle, integer, object, or string. The type of value your function returns depends largely on the task it performs.\n",
    "        If the data type of the expression is different from the function return type, conversion of the return value takes place as if the value of the expression were assigned to an object with the same function return type. For a function of return type void , a return statement is not strictly necessary."
   ]
  },
  {
   "cell_type": "raw",
   "id": "08959053",
   "metadata": {},
   "source": [
    "#8. If a function does not have a return statement, what is the return value of a call to that function?\n",
    "\n",
    "        If no return statement appears in a function definition, control automatically returns to the calling function after the last statement of the called function is executed. In this case, the return value of the called function is undefined."
   ]
  },
  {
   "cell_type": "raw",
   "id": "5ff530f8",
   "metadata": {},
   "source": [
    "#9. How do you make a function variable refer to the global variable?\n",
    "\n",
    "        Normally, when you create a variable inside a function, that variable is local, and can only be used inside that function. To create a global variable inside a function, you can use the global keyword."
   ]
  },
  {
   "cell_type": "raw",
   "id": "0de9b4da",
   "metadata": {},
   "source": [
    "#10. What is the data type of None?\n",
    "        \n",
    "        The None keyword is used to define a null value, or no value at all. None is not the same as 0, False, or an empty string. None is a data type of its own (NoneType) and only None can be None."
   ]
  },
  {
   "cell_type": "raw",
   "id": "60140ad0",
   "metadata": {},
   "source": [
    "#11. What does the sentence import areallyourpetsnamederic do?\n",
    "\n",
    "        That import statement imports a module named areallyourpetsnamederic"
   ]
  },
  {
   "cell_type": "raw",
   "id": "9d42d4e1",
   "metadata": {},
   "source": [
    "#12. If you had a bacon() feature in a spam module, what would you call it after importing spam?\n",
    "\n",
    "        This function can be called with spam.bacon()."
   ]
  },
  {
   "cell_type": "raw",
   "id": "8d6b3e6c",
   "metadata": {},
   "source": [
    "#13. What can you do to save a programme from crashing if it encounters an error?\n",
    "\n",
    "        Place the line of code that might cause an error in a try clause."
   ]
  },
  {
   "cell_type": "raw",
   "id": "59c9f6d7",
   "metadata": {},
   "source": [
    "#14. What is the purpose of the try clause? What is the purpose of the except clause?\n",
    "\n",
    "        The code that could potentially cause an error goes in the try clause.The code that executes if an error happens goes in the except clause.\n"
   ]
  }
 ],
 "metadata": {
  "kernelspec": {
   "display_name": "Python 3 (ipykernel)",
   "language": "python",
   "name": "python3"
  },
  "language_info": {
   "codemirror_mode": {
    "name": "ipython",
    "version": 3
   },
   "file_extension": ".py",
   "mimetype": "text/x-python",
   "name": "python",
   "nbconvert_exporter": "python",
   "pygments_lexer": "ipython3",
   "version": "3.9.13"
  }
 },
 "nbformat": 4,
 "nbformat_minor": 5
}
