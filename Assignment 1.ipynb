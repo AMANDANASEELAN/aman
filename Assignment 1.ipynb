{
 "cells": [
  {
   "cell_type": "raw",
   "id": "857b36d8",
   "metadata": {},
   "source": [
    "#1. In the below elements which of them are values or an expression? eg:- values can be integer or string and expressions will be mathematical operator?\n",
    "   \n",
    "   The operators are +, -, *, and /,The values are 'hello', -87.8, and 6\n"
   ]
  },
  {
   "cell_type": "raw",
   "id": "fc64ac44",
   "metadata": {},
   "source": [
    "#2. What is the difference between string and variable?\n",
    "    \n",
    "    A Variable is a store of information, and a String is a type of information you would store in a Variable. A String is usually words, enclosed with \"\".\n",
    "    eg:- x=\"assignment\"\n",
    "    X is the Variable, and we declared it as a String, use the single = to assign the text to it.\n",
    "     "
   ]
  },
  {
   "cell_type": "raw",
   "id": "b1d267cf",
   "metadata": {},
   "source": [
    "#3. Describe three different data types.?\n",
    "\n",
    "    1.Integer:- used forWhole number eg:-(7, 12, 999)\n",
    "    \n",
    "    2.Float:-used for the number with a decimal point eg:-(3.15, 9.06, 00.13)\n",
    "    \n",
    "    3.Character:-used for encoding text numerically\teg:-97(in ASCII, 97 is a lower case 'a')\n",
    "    \n",
    "    4:-Boolean:-used for representing logical values eg:-(TRUE, FALSE)"
   ]
  },
  {
   "cell_type": "raw",
   "id": "fefcecff",
   "metadata": {},
   "source": [
    "#4. What is an expression made up of? What do all expressions do?\n",
    "\n",
    "         An expression is a combination of operators, constants and variables. An expression may consist of one or more operands, and zero or more operators to produce a value"
   ]
  },
  {
   "cell_type": "raw",
   "id": "4648d140",
   "metadata": {},
   "source": [
    "#5. This assignment statements, like spam = 10. What is the difference between an expression and a statement?\n",
    "\n",
    "        An expression evaluates to a value. A statement does something."
   ]
  },
  {
   "cell_type": "raw",
   "id": "1a64bb74",
   "metadata": {},
   "source": [
    "#6. After running the following code, what does the variable bacon contain?\n",
    "    bacon = 22\n",
    "    bacon + 1\n",
    "        \n",
    "        The bacon variable is set to 22. The bacon + 1 expression does not reassign the value in bacon (that would need an assignment statement: bacon = bacon + 1)."
   ]
  },
  {
   "cell_type": "raw",
   "id": "1b6470ca",
   "metadata": {},
   "source": [
    "#7. What should the values of the following two terms be?\n",
    "    'spam' + 'spamspam'\n",
    "    'spam' * 3\n",
    "    \n",
    "            Both expressions evaluate to the string 'spamspamspam'.\n"
   ]
  },
  {
   "cell_type": "raw",
   "id": "f20a586b",
   "metadata": {},
   "source": [
    "#8. Why is eggs a valid variable name while 100 is invalid?\n",
    "\n",
    "       Variable names cannot begin with a number."
   ]
  },
  {
   "cell_type": "raw",
   "id": "c403c9e1",
   "metadata": {},
   "source": [
    "#9. What three functions can be used to get the integer, floating-point number, or string version of a value?\n",
    "\n",
    "        The int(), float(), and str() functions will evaluate to the integer, floating-point number, and string versions of the value passed to them."
   ]
  },
  {
   "cell_type": "raw",
   "id": "b6bc45c9",
   "metadata": {},
   "source": [
    "#10. Why does this expression cause an error? How can you fix it?\n",
    "  'I have eaten ' + 99 + ' burritos.'\n",
    "  \n",
    "      The expression causes an error because 99 is an integer, and only strings can be concatenated to other strings with the + operator. The correct way is I have eaten ' + str(99) + ' burritos.'.\n"
   ]
  }
 ],
 "metadata": {
  "kernelspec": {
   "display_name": "Python 3 (ipykernel)",
   "language": "python",
   "name": "python3"
  },
  "language_info": {
   "codemirror_mode": {
    "name": "ipython",
    "version": 3
   },
   "file_extension": ".py",
   "mimetype": "text/x-python",
   "name": "python",
   "nbconvert_exporter": "python",
   "pygments_lexer": "ipython3",
   "version": "3.9.13"
  }
 },
 "nbformat": 4,
 "nbformat_minor": 5
}
