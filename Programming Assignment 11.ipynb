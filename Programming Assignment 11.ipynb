{
 "cells": [
  {
   "cell_type": "code",
   "execution_count": 2,
   "id": "e9c4c317",
   "metadata": {},
   "outputs": [
    {
     "name": "stdout",
     "output_type": "stream",
     "text": [
      "Enter the string : I am Aman\n",
      "Enter the lenth K : 2\n",
      "\n",
      "The original string ' I am Aman '\n",
      "Words greater than k2\n",
      "['Aman']\n"
     ]
    }
   ],
   "source": [
    "#1.Write a Python program to find words which are greater than given length k?\n",
    "\n",
    "\n",
    "def Biggerthank(k,str):\n",
    "    txt = str.split()\n",
    "    Wordlist = []\n",
    "    for i in txt:\n",
    "        if len(i) > k:\n",
    "            Wordlist.append(i)\n",
    "    return Wordlist\n",
    "\n",
    "str = input(\"Enter the string : \")\n",
    "k = int(input(\"Enter the lenth K : \"))\n",
    "\n",
    "Wordlist = Biggerthank(k,str)\n",
    "\n",
    "print(\"\\nThe original string ' {} '\".format(str))\n",
    "\n",
    "print(\"Words greater than k{}\".format(k))\n",
    "print(Wordlist)"
   ]
  },
  {
   "cell_type": "code",
   "execution_count": 4,
   "id": "b22ed1ab",
   "metadata": {},
   "outputs": [
    {
     "name": "stdout",
     "output_type": "stream",
     "text": [
      "Enter the string : ineuron\n",
      "Enter the index : 3\n",
      "The new string :  ineron\n"
     ]
    }
   ],
   "source": [
    "#2.Write a Python program for removing i-th character from a string?\n",
    "\n",
    "def remove(str, i): \n",
    "  \n",
    "    for j in range(len(str)):\n",
    "        if j == i:\n",
    "            str = str.replace(str[i], \"\", 1)\n",
    "    return str      \n",
    "\n",
    "str = input(\"Enter the string : \")\n",
    "i = int(input(\"Enter the index : \"))      \n",
    "\n",
    "# Print the new string\n",
    "\n",
    "print(\"The new string : \", remove(str, i))\n",
    "     "
   ]
  },
  {
   "cell_type": "code",
   "execution_count": 5,
   "id": "80f28aab",
   "metadata": {},
   "outputs": [
    {
     "name": "stdout",
     "output_type": "stream",
     "text": [
      "Spliting a string :  ['I', 'love', 'coding']\n",
      "Joining a string :  I-love-coding\n"
     ]
    }
   ],
   "source": [
    "#3.Write a Python program to split and join a string?\n",
    "\n",
    "str = \"I love coding\"\n",
    "str = str.split(\" \") \n",
    "print(\"Spliting a string : \",str)\n",
    "\n",
    "\n",
    "str2 = \"-\".join(str)\n",
    "print(\"Joining a string : \",str2)"
   ]
  },
  {
   "cell_type": "code",
   "execution_count": 7,
   "id": "f78e6142",
   "metadata": {},
   "outputs": [
    {
     "name": "stdout",
     "output_type": "stream",
     "text": [
      "Enter the string : 46546\n",
      "Not Binary\n"
     ]
    }
   ],
   "source": [
    "#4.Write a Python to check if a given string is binary string or not?\n",
    "\n",
    "def ifbinary(str):\n",
    "    binary = '01'\n",
    "    for i in range(len(str)):\n",
    "        if str[i] not in binary:\n",
    "            print('Not Binary')\n",
    "            break\n",
    "    else:\n",
    "        print('Binary')\n",
    "        \n",
    "str = input(\"Enter the string : \")\n",
    "ifbinary(str)"
   ]
  },
  {
   "cell_type": "code",
   "execution_count": 8,
   "id": "3a6c46e5",
   "metadata": {},
   "outputs": [
    {
     "name": "stdout",
     "output_type": "stream",
     "text": [
      "Enter the string a : one is two\n",
      "Enter the string b : one is four\n",
      "The list of un Common words :   two four\n"
     ]
    }
   ],
   "source": [
    "#5.Write a Python program to find uncommon words from two Strings?\n",
    "\n",
    "def unCommon(a,b):\n",
    "    list_one = a.split()\n",
    "    list_two = b.split()\n",
    "    notcom =''\n",
    "    \n",
    "    for i in list_one:\n",
    "        if i not in list_two:\n",
    "            notcom = notcom +\" \"+ i\n",
    "    for j in list_two:\n",
    "        if j not in list_one:\n",
    "            notcom = notcom +\" \"+ j\n",
    "    return notcom\n",
    "\n",
    "a = input(\"Enter the string a : \").lower()\n",
    "b = input(\"Enter the string b : \").lower()\n",
    "\n",
    "print(\"The list of un Common words : \", unCommon(a,b))"
   ]
  },
  {
   "cell_type": "code",
   "execution_count": 9,
   "id": "53278cea",
   "metadata": {},
   "outputs": [
    {
     "name": "stdout",
     "output_type": "stream",
     "text": [
      "Enter the string a : ineuron \n"
     ]
    },
    {
     "data": {
      "text/plain": [
       "['n']"
      ]
     },
     "execution_count": 9,
     "metadata": {},
     "output_type": "execute_result"
    }
   ],
   "source": [
    "#6.Write a Python to find all duplicate characters in string?\n",
    "\n",
    "str = input(\"Enter the string a : \").lower()\n",
    "duplicate = []\n",
    "\n",
    "for i in str:\n",
    "    if str.count(i) > 1 :\n",
    "        if i not in duplicate:\n",
    "            duplicate.append(i)\n",
    "        \n",
    "duplicate"
   ]
  },
  {
   "cell_type": "code",
   "execution_count": 10,
   "id": "5043b0f7",
   "metadata": {},
   "outputs": [
    {
     "name": "stdout",
     "output_type": "stream",
     "text": [
      "Enter the string a : i am @##$$\n",
      "String i am @##$$ has special charecter/s : ['@', '#', '#', '$', '$']\n"
     ]
    }
   ],
   "source": [
    "#7.Write a Python Program to check if a string contains any special character?\n",
    "\n",
    "import string\n",
    "\n",
    "str_char = string.punctuation\n",
    "speci_str = []\n",
    "\n",
    "str = input(\"Enter the string a : \").lower()\n",
    "for i in str:\n",
    "    if i in str_char:\n",
    "        speci_str.append(i)\n",
    "if len(speci_str) > 0:\n",
    "    print(\"String {} has special charecter/s : {}\".format(str,speci_str))"
   ]
  },
  {
   "cell_type": "code",
   "execution_count": null,
   "id": "aed5bf66",
   "metadata": {},
   "outputs": [],
   "source": []
  }
 ],
 "metadata": {
  "kernelspec": {
   "display_name": "Python 3 (ipykernel)",
   "language": "python",
   "name": "python3"
  },
  "language_info": {
   "codemirror_mode": {
    "name": "ipython",
    "version": 3
   },
   "file_extension": ".py",
   "mimetype": "text/x-python",
   "name": "python",
   "nbconvert_exporter": "python",
   "pygments_lexer": "ipython3",
   "version": "3.9.13"
  }
 },
 "nbformat": 4,
 "nbformat_minor": 5
}
