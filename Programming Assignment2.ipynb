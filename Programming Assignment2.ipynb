{
 "cells": [
  {
   "cell_type": "code",
   "execution_count": 4,
   "id": "43419869",
   "metadata": {},
   "outputs": [
    {
     "name": "stdout",
     "output_type": "stream",
     "text": [
      "Enter the kilometer :16\n",
      "The convertion of kilometers to miles :  9.941936\n"
     ]
    }
   ],
   "source": [
    "#1.Write a Python program to convert kilometers to miles?\n",
    "\n",
    "km=float(input('Enter the kilometer :'))\n",
    "con_ratio=0.621371\n",
    "miles=km*con_ratio\n",
    "print(\"The convertion of kilometers to miles : \", miles)"
   ]
  },
  {
   "cell_type": "code",
   "execution_count": 5,
   "id": "7214088f",
   "metadata": {},
   "outputs": [
    {
     "name": "stdout",
     "output_type": "stream",
     "text": [
      "Enter the celsius : 33.5\n",
      "The convertion Celsius to Fahernheit : 92.30000000000001\n"
     ]
    }
   ],
   "source": [
    "#2.\tWrite a Python program to convert Celsius to Fahrenheit?\n",
    "\n",
    "celsius=float(input(\"Enter the celsius : \"))\n",
    "fahrenheit = (celsius * 1.8) + 32\n",
    "print(\"The convertion Celsius to Fahernheit :\",fahrenheit )"
   ]
  },
  {
   "cell_type": "code",
   "execution_count": 6,
   "id": "aa947ffc",
   "metadata": {},
   "outputs": [
    {
     "name": "stdout",
     "output_type": "stream",
     "text": [
      "Enter year: 2022\n",
      "Enter month: 10\n",
      "    October 2022\n",
      "Mo Tu We Th Fr Sa Su\n",
      "                1  2\n",
      " 3  4  5  6  7  8  9\n",
      "10 11 12 13 14 15 16\n",
      "17 18 19 20 21 22 23\n",
      "24 25 26 27 28 29 30\n",
      "31\n",
      "\n"
     ]
    }
   ],
   "source": [
    "#3.Write a Python program to display calendar?\n",
    "\n",
    "import calendar\n",
    "yy = int(input(\"Enter year: \"))\n",
    "mm = int(input(\"Enter month: \"))\n",
    "\n",
    "# display the calendar\n",
    "print(calendar.month(yy, mm))"
   ]
  },
  {
   "cell_type": "code",
   "execution_count": 10,
   "id": "8c12a8aa",
   "metadata": {},
   "outputs": [
    {
     "name": "stdout",
     "output_type": "stream",
     "text": [
      "General form=ax**2+bx+c=0 \n",
      "Enter the value of a (a!=0) : 22\n",
      "Enter the value of b :33\n",
      "Enter the value of c :44\n",
      "The solution are (-0.75-1.19895788082818j) and (-0.75+1.19895788082818j)\n"
     ]
    }
   ],
   "source": [
    "#4.Write a Python program to solve quadratic equation?\n",
    "\n",
    "import cmath\n",
    "print(\"General form=ax**2+bx+c=0 \")\n",
    "a=int(input(\"Enter the value of a (a!=0) : \"))\n",
    "b=int(input(\"Enter the value of b :\"))\n",
    "c=int(input(\"Enter the value of c :\"))\n",
    "d=(b**2)-(4*a*c)\n",
    "sol1 = (-b-cmath.sqrt(d))/(2*a)\n",
    "sol2 = (-b+cmath.sqrt(d))/(2*a)\n",
    "\n",
    "\n",
    "\n",
    "print('The solution are {0} and {1}'.format(sol1,sol2))"
   ]
  },
  {
   "cell_type": "code",
   "execution_count": 8,
   "id": "a6f08944",
   "metadata": {},
   "outputs": [
    {
     "name": "stdout",
     "output_type": "stream",
     "text": [
      "Enter the first variable : 22\n",
      "Enter the second variable : 33\n",
      "Before swapping: \n",
      "Value of x :  22  and y :  33\n",
      "After swapping: \n",
      "Value of x :  33  and y :  22\n"
     ]
    }
   ],
   "source": [
    "#5.Write a Python program to swap two variables without temp variable?\n",
    "\n",
    "x = input(\"Enter the first variable : \")\n",
    "y =input(\"Enter the second variable : \") \n",
    "print (\"Before swapping: \")\n",
    "print(\"Value of x : \", x, \" and y : \", y)\n",
    "x, y = y, x\n",
    "print (\"After swapping: \")\n",
    "print(\"Value of x : \", x, \" and y : \", y)"
   ]
  },
  {
   "cell_type": "code",
   "execution_count": null,
   "id": "3ea6f5f0",
   "metadata": {},
   "outputs": [],
   "source": []
  }
 ],
 "metadata": {
  "kernelspec": {
   "display_name": "Python 3 (ipykernel)",
   "language": "python",
   "name": "python3"
  },
  "language_info": {
   "codemirror_mode": {
    "name": "ipython",
    "version": 3
   },
   "file_extension": ".py",
   "mimetype": "text/x-python",
   "name": "python",
   "nbconvert_exporter": "python",
   "pygments_lexer": "ipython3",
   "version": "3.9.13"
  }
 },
 "nbformat": 4,
 "nbformat_minor": 5
}
