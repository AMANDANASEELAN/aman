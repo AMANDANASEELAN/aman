{
 "cells": [
  {
   "cell_type": "code",
   "execution_count": 14,
   "id": "88cc9447",
   "metadata": {},
   "outputs": [
    {
     "name": "stdout",
     "output_type": "stream",
     "text": [
      "Enter the Number to Check Disarium Number = 89\n",
      "The Sum of the Digits = 89\n",
      "\n",
      "89 is a Disarium Number.\n"
     ]
    }
   ],
   "source": [
    "#1.Write a Python program to check if the given number is a Disarium Number?\n",
    "\n",
    "num = int(input(\"Enter the Number to Check Disarium Number = \"))\n",
    "leng = len(str(num))\n",
    "\n",
    "Temp = num\n",
    "Sum = 0\n",
    "rem = 0\n",
    "\n",
    "while Temp > 0:\n",
    "    rem = Temp % 10\n",
    "    Sum = Sum + int(rem**leng)\n",
    "    Temp = Temp // 10\n",
    "    leng = leng - 1\n",
    "\n",
    "print(\"The Sum of the Digits = %d\" %Sum)\n",
    "\n",
    "if Sum == num:\n",
    "    print(\"\\n%d is a Disarium Number.\" %num)\n",
    "else:\n",
    "    print(\"%d is Not a Disarium Number.\" %num)"
   ]
  },
  {
   "cell_type": "code",
   "execution_count": 27,
   "id": "91ee2a13",
   "metadata": {},
   "outputs": [
    {
     "name": "stdout",
     "output_type": "stream",
     "text": [
      "Disarium no in range 1 to 100\n",
      "[1, 2, 3, 4, 5, 6, 7, 8, 9, 89]\n"
     ]
    }
   ],
   "source": [
    "#2.Write a Python program to print all disarium numbers between 1 to 100?\n",
    "\n",
    "def Disarium(num):\n",
    "    sum = 0\n",
    "    while(num>0):\n",
    "        l= len(str(num))\n",
    "        no = num%10\n",
    "        sum= sum + no**l   \n",
    "        l-=1\n",
    "        num = num//10\n",
    "    return sum\n",
    "\n",
    "print(\"Disarium no in range 1 to 100\")\n",
    "\n",
    "disno = []\n",
    "\n",
    "for i in range(1,101):\n",
    "    sum = 0\n",
    "    sum = Disarium(i)\n",
    "    if sum == i:\n",
    "        disno.append(i)        \n",
    "print(disno)"
   ]
  },
  {
   "cell_type": "code",
   "execution_count": 20,
   "id": "bf40ae01",
   "metadata": {},
   "outputs": [
    {
     "name": "stdout",
     "output_type": "stream",
     "text": [
      "Enter the number :7\n",
      "7 Is a Happy Number\n"
     ]
    }
   ],
   "source": [
    "#3.Write a Python program to check if the given number is Happy Number?\n",
    "\n",
    "def happ(n2):\n",
    "    sum3 = 0\n",
    "    while(n2>0):\n",
    "        dig = n2%10\n",
    "        sum3= sum3 + dig**2\n",
    "        n2 = n2//10\n",
    "    return sum3\n",
    "\n",
    "n2 = int(input(\"Enter the number :\"))\n",
    "result = n2\n",
    "\n",
    "while (result !=1 and result !=4):\n",
    "    result = happ(result)\n",
    "\n",
    "if result ==1 :\n",
    "    print(n2,\"Is a Happy Number\")\n",
    "else:\n",
    "    print(n2,\"Is a unhappy Number\")\n"
   ]
  },
  {
   "cell_type": "code",
   "execution_count": 22,
   "id": "9b1f62c1",
   "metadata": {},
   "outputs": [
    {
     "name": "stdout",
     "output_type": "stream",
     "text": [
      "Happy numbers in range 1 to 100\n",
      "[1, 7, 10, 13, 19, 23, 28, 31, 32, 44, 49, 68, 70, 79, 82, 86, 91, 94, 97, 100]\n"
     ]
    }
   ],
   "source": [
    "#4.Write a Python program to print all happy numbers between 1 and 100?\n",
    "\n",
    "\n",
    "def happ(n2):\n",
    "    sum3 = 0\n",
    "    while(n2>0):\n",
    "        dig = n2%10\n",
    "        sum3= sum3 + dig**2\n",
    "        n2 = n2//10\n",
    "    return sum3\n",
    "print(\"Happy numbers in range 1 to 100\")\n",
    "result=n2=i=0\n",
    "happyNo = []\n",
    "for i in range(1,101):\n",
    "    result = i\n",
    "    while (result != 1 and result != 4):\n",
    "        result = happ(result)    \n",
    "    if result == 1:\n",
    "        happyNo.append(i)\n",
    "print(happyNo)\n",
    "     "
   ]
  },
  {
   "cell_type": "code",
   "execution_count": 25,
   "id": "f8106b22",
   "metadata": {},
   "outputs": [
    {
     "name": "stdout",
     "output_type": "stream",
     "text": [
      "Enter no. :7\n",
      "7 Is a Harshad number\n"
     ]
    }
   ],
   "source": [
    "#5.Write a Python program to determine whether the given number is a Harshad Number?\n",
    "\n",
    "def digsum(num):\n",
    "    sum = 0\n",
    "    while(num>0):\n",
    "        dig = num%10\n",
    "        sum= sum + dig      \n",
    "        num = num//10\n",
    "    return sum\n",
    "\n",
    "num = int(input(\"Enter no. :\"))\n",
    "sum = digsum(num)\n",
    "\n",
    "if num % sum == 0:\n",
    "    print(num,\"Is a Harshad number\")\n",
    "else:\n",
    "    print(num,\"Is not a Harshad number\")\n"
   ]
  },
  {
   "cell_type": "code",
   "execution_count": 26,
   "id": "a45a3775",
   "metadata": {},
   "outputs": [
    {
     "name": "stdout",
     "output_type": "stream",
     "text": [
      "Pronic numbers in range 1 to 100\n",
      "[2, 6, 12, 20, 30, 42, 56, 72, 90]\n"
     ]
    }
   ],
   "source": [
    "#6.Write a Python program to print all pronic numbers between 1 and 100?\n",
    "\n",
    "def PronicNo(num):\n",
    "    Pronic = False\n",
    "    for i in range(1,num+1):\n",
    "        if i*(i+1) == num:\n",
    "            Pronic = True\n",
    "            break\n",
    "    return Pronic\n",
    "\n",
    "print(\"Pronic numbers in range 1 to 100\")\n",
    "pronicno = []\n",
    "for i in range(1,101):\n",
    "    if PronicNo(i):\n",
    "        pronicno.append(i)\n",
    "print(pronicno)"
   ]
  },
  {
   "cell_type": "code",
   "execution_count": null,
   "id": "be562624",
   "metadata": {},
   "outputs": [],
   "source": []
  }
 ],
 "metadata": {
  "kernelspec": {
   "display_name": "Python 3 (ipykernel)",
   "language": "python",
   "name": "python3"
  },
  "language_info": {
   "codemirror_mode": {
    "name": "ipython",
    "version": 3
   },
   "file_extension": ".py",
   "mimetype": "text/x-python",
   "name": "python",
   "nbconvert_exporter": "python",
   "pygments_lexer": "ipython3",
   "version": "3.9.13"
  }
 },
 "nbformat": 4,
 "nbformat_minor": 5
}
