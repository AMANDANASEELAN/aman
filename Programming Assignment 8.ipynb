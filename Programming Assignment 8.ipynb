{
 "cells": [
  {
   "cell_type": "code",
   "execution_count": 1,
   "id": "62862ec2",
   "metadata": {},
   "outputs": [
    {
     "name": "stdout",
     "output_type": "stream",
     "text": [
      "[13, 10, 4]\n",
      "[10, 11, 9]\n",
      "[11, 10, 18]\n"
     ]
    }
   ],
   "source": [
    "#1.Write a Python Program to Add Two Matrices?\n",
    "\n",
    "X = [[10,2,3],\n",
    "    [4 ,4,6],\n",
    "    [7 ,5,9]]\n",
    "\n",
    "Y = [[3,8,1],\n",
    "    [6,7,3],\n",
    "    [4,5,9]]\n",
    "\n",
    "result = [[0,0,0],\n",
    "         [0,0,0],\n",
    "         [0,0,0]]\n",
    "\n",
    "# iterate through rows\n",
    "for i in range(len(X)):\n",
    "    \n",
    "    for j in range(len(X[0])):\n",
    "           result[i][j] = X[i][j] + Y[i][j]\n",
    "\n",
    "for r in result:\n",
    "       print(r)"
   ]
  },
  {
   "cell_type": "code",
   "execution_count": 2,
   "id": "96d9d3e9",
   "metadata": {},
   "outputs": [
    {
     "name": "stdout",
     "output_type": "stream",
     "text": [
      "[54, 109, 43]\n",
      "[60, 90, 70]\n",
      "[87, 136, 103]\n"
     ]
    }
   ],
   "source": [
    "#2.Write a Python Program to Multiply Two Matrices?\n",
    "\n",
    "X = [[10,2,3],\n",
    "    [4 ,4,6],\n",
    "    [7 ,5,9]]\n",
    "\n",
    "Y = [[3,8,1],\n",
    "    [6,7,3],\n",
    "    [4,5,9]]\n",
    "\n",
    "result = [[0,0,0],\n",
    "         [0,0,0],\n",
    "         [0,0,0]]\n",
    "for i in range(len(X)):\n",
    "   \n",
    "   for j in range(len(Y[0])):\n",
    "        \n",
    "        for k in range(len(Y)):\n",
    "            result[i][j] += X[i][k] * Y[k][j]\n",
    "\n",
    "for r in result:\n",
    "    print(r)\n"
   ]
  },
  {
   "cell_type": "code",
   "execution_count": 8,
   "id": "a71a6b91",
   "metadata": {},
   "outputs": [
    {
     "name": "stdout",
     "output_type": "stream",
     "text": [
      "[6, 4, 3]\n",
      "[7, 5, 2]\n"
     ]
    }
   ],
   "source": [
    "#3.Write a Python Program to Transpose a Matrix?\n",
    "\n",
    "a = [[6,7],\n",
    "    [4 ,5],\n",
    "    [3 ,2]]\n",
    "\n",
    "result = [[0,0,0],\n",
    "         [0,0,0]]\n",
    "for i in range(len(X)):\n",
    "       for j in range(len(a[0])):\n",
    "               result[j][i] = a[i][j]\n",
    "\n",
    "for v in result:\n",
    "       print(v)"
   ]
  },
  {
   "cell_type": "code",
   "execution_count": 10,
   "id": "1c4baf3f",
   "metadata": {},
   "outputs": [
    {
     "name": "stdout",
     "output_type": "stream",
     "text": [
      "Enter a string: i am aman\n",
      "am\n",
      "aman\n",
      "i\n"
     ]
    }
   ],
   "source": [
    "#4.Write a Python Program to Sort Words in Alphabetic Order?\n",
    "\n",
    "my_str = input(\"Enter a string: \")  \n",
    "words = my_str.split()  \n",
    "words.sort()    \n",
    "for word in words:  \n",
    "    print(word)  "
   ]
  },
  {
   "cell_type": "code",
   "execution_count": 11,
   "id": "e17096f6",
   "metadata": {},
   "outputs": [
    {
     "name": "stdout",
     "output_type": "stream",
     "text": [
      "Hello he said and went\n"
     ]
    }
   ],
   "source": [
    "#5.Write a Python Program to Remove Punctuation From a String?\n",
    "\n",
    "punctuations = '''!()-[]{};:'\"\\,<>./?@#$%^&*_~'''\n",
    "\n",
    "my_str = \"Hello!!!, he said ---and went.\"\n",
    "no_punct = \"\"\n",
    "for char in my_str:\n",
    "    if char not in punctuations:\n",
    "        no_punct = no_punct + char\n",
    "print(no_punct)"
   ]
  },
  {
   "cell_type": "code",
   "execution_count": null,
   "id": "d9a5a13a",
   "metadata": {},
   "outputs": [],
   "source": []
  }
 ],
 "metadata": {
  "kernelspec": {
   "display_name": "Python 3 (ipykernel)",
   "language": "python",
   "name": "python3"
  },
  "language_info": {
   "codemirror_mode": {
    "name": "ipython",
    "version": 3
   },
   "file_extension": ".py",
   "mimetype": "text/x-python",
   "name": "python",
   "nbconvert_exporter": "python",
   "pygments_lexer": "ipython3",
   "version": "3.9.13"
  }
 },
 "nbformat": 4,
 "nbformat_minor": 5
}
